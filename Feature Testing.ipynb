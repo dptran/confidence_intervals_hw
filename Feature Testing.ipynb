{
 "cells": [
  {
   "cell_type": "code",
   "execution_count": 183,
   "id": "6d555347",
   "metadata": {},
   "outputs": [],
   "source": [
    "# import any packages you'll need to create dataframes and visualize your data\n",
    "import pandas as pd\n",
    "import numpy as np\n",
    "import matplotlib.pyplot as plt"
   ]
  },
  {
   "cell_type": "code",
   "execution_count": 184,
   "id": "a84e0874",
   "metadata": {},
   "outputs": [],
   "source": [
    "# read in the homepage_actions.csv file\n",
    "data = pd.read_csv(\"homepage_actions.csv\")"
   ]
  },
  {
   "cell_type": "code",
   "execution_count": 185,
   "id": "01c661b3",
   "metadata": {},
   "outputs": [],
   "source": [
    "# You have two groups: the control group and the experiment group.\n",
    "\n",
    "# Use the data to determine the average rate at which people click on the call-to-action \n",
    "# button vs the ones who do not\n",
    "\n",
    "# Check the reliability of your data by applying the Bootstrapping method based on the law of large numbers\n",
    "exp = data['group'] == 'experiment'\n",
    "experience = data[exp]\n",
    "con = data['group'] == 'control'\n",
    "control = data[con]"
   ]
  },
  {
   "cell_type": "code",
   "execution_count": 186,
   "id": "8ee12288-2fc9-45c6-8229-f7af57a6f818",
   "metadata": {},
   "outputs": [],
   "source": [
    "exp_click = experience[(experience['action'] == 'click')].count()/experience['action'].count()\n",
    "exp_view = experience[(experience['action'] == 'view')].count()/experience['action'].count()\n",
    "con_click = control[(control['action'] == 'click')].count()/control['action'].count()\n",
    "con_view = control[(control['action'] == 'view')].count()/control['action'].count()"
   ]
  },
  {
   "cell_type": "code",
   "execution_count": 192,
   "id": "fc4a1e57-84c5-4fd0-8270-5385cc563a86",
   "metadata": {},
   "outputs": [
    {
     "ename": "IndexError",
     "evalue": "invalid index to scalar variable.",
     "output_type": "error",
     "traceback": [
      "\u001b[1;31m---------------------------------------------------------------------------\u001b[0m",
      "\u001b[1;31mIndexError\u001b[0m                                Traceback (most recent call last)",
      "\u001b[1;32m~\\AppData\\Local\\Temp/ipykernel_48308/3656432796.py\u001b[0m in \u001b[0;36m<module>\u001b[1;34m\u001b[0m\n\u001b[1;32m----> 1\u001b[1;33m \u001b[0mexp_click\u001b[0m \u001b[1;33m=\u001b[0m \u001b[0mexp_click\u001b[0m\u001b[1;33m[\u001b[0m\u001b[1;36m0\u001b[0m\u001b[1;33m]\u001b[0m\u001b[1;33m\u001b[0m\u001b[1;33m\u001b[0m\u001b[0m\n\u001b[0m\u001b[0;32m      2\u001b[0m \u001b[0mexp_view\u001b[0m \u001b[1;33m=\u001b[0m \u001b[0mexp_view\u001b[0m\u001b[1;33m[\u001b[0m\u001b[1;36m0\u001b[0m\u001b[1;33m]\u001b[0m\u001b[1;33m\u001b[0m\u001b[1;33m\u001b[0m\u001b[0m\n\u001b[0;32m      3\u001b[0m \u001b[0mcon_click\u001b[0m \u001b[1;33m=\u001b[0m \u001b[0mcon_click\u001b[0m\u001b[1;33m[\u001b[0m\u001b[1;36m0\u001b[0m\u001b[1;33m]\u001b[0m\u001b[1;33m\u001b[0m\u001b[1;33m\u001b[0m\u001b[0m\n\u001b[0;32m      4\u001b[0m \u001b[0mcon_view\u001b[0m \u001b[1;33m=\u001b[0m \u001b[0mcon_view\u001b[0m\u001b[1;33m[\u001b[0m\u001b[1;36m0\u001b[0m\u001b[1;33m]\u001b[0m\u001b[1;33m\u001b[0m\u001b[1;33m\u001b[0m\u001b[0m\n",
      "\u001b[1;31mIndexError\u001b[0m: invalid index to scalar variable."
     ]
    }
   ],
   "source": [
    "exp_click = exp_click[0]\n",
    "exp_view = exp_view[0]\n",
    "con_click = con_click[0]\n",
    "con_view = con_view[0]\n"
   ]
  },
  {
   "cell_type": "code",
   "execution_count": 193,
   "id": "74ed99b6-6521-445d-b61b-798f7f539a0d",
   "metadata": {},
   "outputs": [
    {
     "name": "stdout",
     "output_type": "stream",
     "text": [
      "0.23649337410805302 0.763506625891947 0.21857410881801126 0.7814258911819888\n"
     ]
    }
   ],
   "source": [
    "print(exp_click, exp_view, con_click, con_view)"
   ]
  },
  {
   "cell_type": "code",
   "execution_count": 194,
   "id": "16e117e7-ebad-4bac-b495-4b8614bd75dc",
   "metadata": {},
   "outputs": [
    {
     "name": "stdout",
     "output_type": "stream",
     "text": [
      "Experiment Group: click = 23.65%\n",
      "Control Group: click = 21.86%\n"
     ]
    }
   ],
   "source": [
    "#Average rate of call-to_action\n",
    "print(\"Experiment Group: click = \" + \"{:.2%}\".format(exp_click))\n",
    "print(\"Control Group: click = \" + \"{:.2%}\".format(con_click))"
   ]
  },
  {
   "cell_type": "code",
   "execution_count": 195,
   "id": "1e824510-f185-4be2-8ee8-21bb61465020",
   "metadata": {},
   "outputs": [],
   "source": [
    "averages_experience = []\n",
    "for _ in range(10000):\n",
    "    sample = experience.sample(300, replace=False)\n",
    "    average_e = sample.query('action == \"click\"')\n",
    "    averages_experience.append(len(average_e)/300)\n",
    "    \n",
    "averages_control = []\n",
    "for _ in range(10000):\n",
    "    sample = control.sample(300, replace=False)\n",
    "    average_c = sample.query('action == \"click\"')\n",
    "    averages_control.append(len(average_c)/300)"
   ]
  },
  {
   "cell_type": "code",
   "execution_count": 197,
   "id": "28e34930-5395-43f9-beb7-5c656974b746",
   "metadata": {},
   "outputs": [
    {
     "name": "stdout",
     "output_type": "stream",
     "text": [
      "0.19 0.28\n",
      "0.19 0.28\n"
     ]
    },
    {
     "data": {
      "image/png": "[encoded data removed]",
      "text/plain": [
       "<Figure size 432x288 with 1 Axes>"
      ]
     },
     "metadata": {
      "needs_background": "light"
     },
     "output_type": "display_data"
    }
   ],
   "source": [
    "plt.hist(averages_experience)\n",
    "x = round(np.percentile(averages, 2.5), 2)\n",
    "y = round(np.percentile(averages, 97.5), 2)\n",
    "print(x, y)\n",
    "\n",
    "plt.hist(averages_control)\n",
    "a = round(np.percentile(averages, 2.5), 2)\n",
    "b = round(np.percentile(averages, 97.5), 2)\n",
    "print(a, b)"
   ]
  },
  {
   "cell_type": "code",
   "execution_count": null,
   "id": "016ed9cf-dbcf-444d-985f-65e8f81729b5",
   "metadata": {},
   "outputs": [],
   "source": []
  }
 ],
 "metadata": {
  "kernelspec": {
   "display_name": "Python 3 (ipykernel)",
   "language": "python",
   "name": "python3"
  },
  "language_info": {
   "codemirror_mode": {
    "name": "ipython",
    "version": 3
   },
   "file_extension": ".py",
   "mimetype": "text/x-python",
   "name": "python",
   "nbconvert_exporter": "python",
   "pygments_lexer": "ipython3",
   "version": "3.10.1"
  }
 },
 "nbformat": 4,
 "nbformat_minor": 5
}
